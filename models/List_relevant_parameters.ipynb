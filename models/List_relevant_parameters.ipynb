{
 "cells": [
  {
   "cell_type": "code",
   "execution_count": 25,
   "id": "7ac5d220",
   "metadata": {},
   "outputs": [],
   "source": [
    "from pathlib import Path\n",
    "import json\n",
    "import csv\n",
    "import pandas as pd\n",
    "from pandas.io.json import json_normalize\n",
    "from prettytable import PrettyTable"
   ]
  },
  {
   "cell_type": "code",
   "execution_count": 26,
   "id": "3b075963",
   "metadata": {},
   "outputs": [],
   "source": [
    "def remove_struct(df):\n",
    "    L_to_keep = ['0_name', 'epochs', 'learning_rate', 'dropout', 'learning_rate_decay_type']\n",
    "    for param in df.columns.tolist():\n",
    "        if param not in L_to_keep:\n",
    "            df = df.drop(param, axis=1, errors='ignore')\n",
    "    return df"
   ]
  },
  {
   "cell_type": "code",
   "execution_count": 27,
   "id": "bd1f933f",
   "metadata": {},
   "outputs": [],
   "source": [
    "def config_decode(array_config, path_model, type_):\n",
    "    # Loading and flattening json file\n",
    "    path_config = path_model / 'config_network.json'\n",
    "    model_name = path_model.parts[-1]\n",
    "\n",
    "    with open(path_config, 'r') as config_file:\n",
    "        config = json.loads(config_file.read())\n",
    "        config_flatten = json_normalize(config)\n",
    "        #config_flatten.rename(columns=lambda x: x[8:], inplace=True)\n",
    "        config_flatten = remove_struct(config_flatten)\n",
    "        config_flatten.insert(0,'0_name',model_name)\n",
    "        # Appending to existing dataframe\n",
    "        res = array_config.append(config_flatten)\n",
    "        return res"
   ]
  },
  {
   "cell_type": "code",
   "execution_count": 28,
   "id": "8e406e50",
   "metadata": {},
   "outputs": [],
   "source": [
    "def describe(write_model):\n",
    "    models = pd.DataFrame()\n",
    "\n",
    "    for item_path in Path.cwd().iterdir():\n",
    "        if item_path.is_dir():\n",
    "            for data in item_path.iterdir():\n",
    "                if data.match('*config_network*'):\n",
    "                    models = config_decode(models, item_path, 'describe')\n",
    "\n",
    "\n",
    "    models.to_csv('models_description.csv', index=False)\n",
    "\n",
    "    # Now we display the differences between the dataframes\n",
    "    t = PrettyTable(models.columns.tolist())\n",
    "    for index, rows in models.iterrows():\n",
    "        t.add_row(rows)\n",
    "    print(t)"
   ]
  },
  {
   "cell_type": "code",
   "execution_count": 29,
   "id": "3cd33511",
   "metadata": {},
   "outputs": [
    {
     "name": "stderr",
     "output_type": "stream",
     "text": [
      "/Users/kwu2/miniconda/envs/ads_venv/lib/python3.7/site-packages/ipykernel_launcher.py:8: FutureWarning: pandas.io.json.json_normalize is deprecated, use pandas.json_normalize instead\n",
      "  \n"
     ]
    },
    {
     "name": "stdout",
     "output_type": "stream",
     "text": [
      "+-------------------------------------------+--------+---------+---------------+--------------------------+\n",
      "|                   0_name                  | epochs | dropout | learning_rate | learning_rate_decay_type |\n",
      "+-------------------------------------------+--------+---------+---------------+--------------------------+\n",
      "|        CNS_TEM_2021-11-04_10-07-52        |  2000  |   0.75  |     0.001     |        polynomial        |\n",
      "|        CNS_TEM_2021-11-16_01-25-20        |  300   |   0.75  |     0.001     |        polynomial        |\n",
      "|        CNS_TEM_2021-12-01_02-57-01        |  2000  |   0.75  |     0.001     |        polynomial        |\n",
      "|          TEM_2021-06-08_14-58-45          |  600   |   0.75  |      0.01     |        polynomial        |\n",
      "|        CNS_TEM_2021-12-01_02-28-15        |  2000  |   0.6   |     0.001     |        polynomial        |\n",
      "|          TEM_2021-10-18_01-44-32          |  600   |   0.75  |      0.01     |        polynomial        |\n",
      "|               best_CNS_model              |  2000  |   0.75  |     0.001     |        polynomial        |\n",
      "|              model_seg_pns_bf             |  400   |   0.75  |     0.005     |        polynomial        |\n",
      "|        CNS_TEM_2021-11-04_09-47-36        |  2000  |   0.75  |     0.001     |        polynomial        |\n",
      "|        CNS_TEM_2021-11-29_01-45-10        |  2000  |   0.75  |     0.001     |        polynomial        |\n",
      "|        CNS_TEM_2021-11-03_17-43-46        |  600   |   0.75  |      0.01     |        polynomial        |\n",
      "|             default_TEM_model             |  2000  |   0.75  |      0.01     |        polynomial        |\n",
      "|        CNS_TEM_2021-11-28_02-12-36        |  300   |   0.75  |     0.001     |           nan            |\n",
      "|          TEM_2021-11-15_21-44-09          |  1000  |   0.75  |      0.01     |        polynomial        |\n",
      "| PNS_notpretrained_TEM_2021-12-02_04-05-30 |  1000  |   0.75  |     0.001     |        polynomial        |\n",
      "|   CNS_TEM_2021-12-01_02-28-15_ct_NAdata   |  2000  |   0.6   |     0.001     |        polynomial        |\n",
      "|        CNS_TEM_2021-11-16_02-01-10        |  300   |   0.75  |     0.001     |           nan            |\n",
      "|          TEM_2021-10-26_00-53-41          |  2000  |   0.75  |     0.001     |        polynomial        |\n",
      "|        PNS_TEM_2021-12-01_01-23-00        |  2000  |   0.75  |     0.001     |        polynomial        |\n",
      "|        CNS_TEM_2021-11-04_16-05-02        |  2000  |   0.75  |     0.001     |        polynomial        |\n",
      "|        CNS_TEM_2021-11-03_19-49-44        |  600   |   0.75  |      0.01     |        polynomial        |\n",
      "|        CNS_TEM_2021-11-15_13-28-39        |  2000  |   0.75  |     0.001     |        polynomial        |\n",
      "|          TEM_2021-10-18_14-37-30          |  600   |   0.75  |      0.01     |        polynomial        |\n",
      "|        PNS_TEM_2021-11-16_05-59-29        |  300   |   0.75  |     0.001     |           nan            |\n",
      "|        CNS_TEM_2021-11-29_01-40-23        |  2000  |   0.75  |     0.001     |        polynomial        |\n",
      "|          TEM_2021-10-25_22-02-38          |  600   |   0.75  |      0.01     |        polynomial        |\n",
      "| PNS_notpretrained_TEM_2021-12-02_03-51-59 |  1000  |   0.75  |      0.01     |        polynomial        |\n",
      "|        PNS_TEM_2021-11-16_02-51-39        |  2000  |   0.75  |     0.001     |        polynomial        |\n",
      "|        CNS_TEM_2021-11-28_02-51-54        |  1000  |   0.75  |     0.001     |           nan            |\n",
      "|          TEM_2021-10-25_23-14-56          |  600   |   0.75  |      0.01     |        polynomial        |\n",
      "|        PNS_TEM_2021-11-03_17-37-02        |  600   |   0.75  |      0.01     |        polynomial        |\n",
      "|        CNS_TEM_2021-11-28_02-18-56        |  1000  |   0.75  |     0.001     |           nan            |\n",
      "|          TEM_2021-10-26_19-23-04          |  2000  |   0.75  |     0.001     |        polynomial        |\n",
      "|        CNS_TEM_2021-11-15_23-46-07        |  600   |   0.75  |     0.001     |        polynomial        |\n",
      "|          TEM_model_10.19.21-3-40          |  2000  |   0.75  |      0.01     |        polynomial        |\n",
      "|        CNS_TEM_2021-11-03_20-20-10        |  600   |   0.75  |      0.01     |        polynomial        |\n",
      "|        CNS_TEM_2021-11-28_02-50-23        |  1000  |   0.75  |     0.001     |           nan            |\n",
      "|             default_SEM_model             |  2000  |   0.75  |      0.01     |        polynomial        |\n",
      "|          TEM_2021-11-15_21-25-58          |  1000  |   0.75  |      0.01     |        polynomial        |\n",
      "|        CNS_TEM_2021-11-29_01-46-19        |  2000  |   0.75  |      0.01     |        polynomial        |\n",
      "|        CNS_TEM_2021-11-29_01-49-02        |  2000  |   0.75  |     0.001     |        polynomial        |\n",
      "|        CNS_TEM_2021-11-04_23-13-38        |  2000  |   0.75  |     0.001     |        polynomial        |\n",
      "|        CNS_TEM_2021-11-04_23-51-27        |  2000  |   0.75  |     0.001     |        polynomial        |\n",
      "|        CNS_TEM_2021-12-01_02-29-32        |  2000  |   0.5   |     0.001     |        polynomial        |\n",
      "|     spinalcord_TEM_2021-11-03_17-35-01    |  600   |   0.75  |      0.01     |        polynomial        |\n",
      "|        PNS_TEM_2021-11-03_19-55-29        |  600   |   0.75  |      0.01     |        polynomial        |\n",
      "| PNS_notpretrained_TEM_2021-12-02_03-45-10 |  1000  |   0.75  |      0.01     |        polynomial        |\n",
      "|        CNS_TEM_2021-11-04_18-47-52        |  2000  |   0.75  |     0.001     |        polynomial        |\n",
      "|        CNS_TEM_2021-11-05_00-51-04        |  2000  |   0.75  |     0.001     |        polynomial        |\n",
      "|        CNS_TEM_2021-12-01_02-19-51        |  2000  |   0.75  |     0.0001    |        polynomial        |\n",
      "+-------------------------------------------+--------+---------+---------------+--------------------------+\n"
     ]
    }
   ],
   "source": [
    "describe(True)"
   ]
  },
  {
   "cell_type": "code",
   "execution_count": null,
   "id": "3eff0a39",
   "metadata": {},
   "outputs": [],
   "source": []
  }
 ],
 "metadata": {
  "kernelspec": {
   "display_name": "Python 3",
   "language": "python",
   "name": "python3"
  },
  "language_info": {
   "codemirror_mode": {
    "name": "ipython",
    "version": 3
   },
   "file_extension": ".py",
   "mimetype": "text/x-python",
   "name": "python",
   "nbconvert_exporter": "python",
   "pygments_lexer": "ipython3",
   "version": "3.7.10"
  }
 },
 "nbformat": 4,
 "nbformat_minor": 5
}
