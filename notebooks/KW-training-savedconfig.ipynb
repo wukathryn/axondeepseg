{
 "cells": [
  {
   "cell_type": "markdown",
   "metadata": {},
   "source": [
    "# Train a new model using a saved config file\n",
    "\n",
    "#### Config files contain the hyperparameters for training the model"
   ]
  },
  {
   "cell_type": "code",
   "execution_count": null,
   "metadata": {},
   "outputs": [],
   "source": [
    "import os\n",
    "import json\n",
    "import time\n",
    "from pathlib import Path\n",
    "import requests\n",
    "from requests.adapters import HTTPAdapter\n",
    "from requests.packages.urllib3.util import Retry\n",
    "\n",
    "# Scientific package imports\n",
    "import imageio\n",
    "import numpy as np\n",
    "import tensorflow as tf\n",
    "from skimage import io\n",
    "import matplotlib.pyplot as plt\n",
    "\n",
    "# Utils import\n",
    "from shutil import copy\n",
    "import zipfile\n",
    "from tqdm import tqdm\n",
    "import cgi\n",
    "import tempfile\n",
    "\n",
    "# AxonDeepSeg imports\n",
    "try:\n",
    "    from AxonDeepSeg.ads_utils import download_data\n",
    "except ModuleNotFoundError:\n",
    "    # Change cwd to project main folder \n",
    "    os.chdir(\"..\")\n",
    "    try :\n",
    "        from AxonDeepSeg.ads_utils import download_data\n",
    "    except:\n",
    "        raise\n",
    "except:\n",
    "    raise\n",
    "# If no exceptions were raised import all folders        \n",
    "from AxonDeepSeg.config_tools import validate_config\n",
    "from AxonDeepSeg.train_network import train_model\n",
    "from AxonDeepSeg.apply_model import axon_segmentation\n",
    "import AxonDeepSeg.ads_utils as ads \n",
    "from config import axonmyelin_suffix\n",
    "\n",
    "# reset the tensorflow graph for new training\n",
    "tf.reset_default_graph()"
   ]
  },
  {
   "cell_type": "code",
   "execution_count": null,
   "metadata": {},
   "outputs": [],
   "source": [
    "# Input path of training images\n",
    "path_training = Path('/home/groups/bzuchero/axondeepseg/data/processed/pns')\n",
    "print(\"Training folder path:\",path_training)"
   ]
  },
  {
   "cell_type": "code",
   "execution_count": null,
   "metadata": {},
   "outputs": [],
   "source": [
    "# Load save configuration file\n",
    "model_name = 'PNS_notpretrained_TEM_2021-12-02_03-45-10'\n",
    "path_model = os.path.join('..','models',model_name)\n",
    "path_configfile = os.path.join(path_model,'config_network.json')\n",
    "with open(path_configfile, 'r') as fd:\n",
    "    config = json.loads(fd.read())"
   ]
  },
  {
   "cell_type": "code",
   "execution_count": null,
   "metadata": {},
   "outputs": [],
   "source": [
    "# reset the tensorflow graph for new testing\n",
    "tf.reset_default_graph()\n",
    "\n",
    "train_model(str(path_training), str(path_model), config)\n",
    "# Note: For multi-OS compatibility of this notebook, paths were defined as Path objects from the pathlib module.\n",
    "# They need to be converted into strings prior to be given as arguments to train_model(), as some old-style string\n",
    "# concatenation (e.g. \"+\") are still used in it.\n",
    "# In your own application, simply defining paths with correct syntax for your OS as strings instead of Path\n",
    "# objects would be sufficient."
   ]
  },
  {
   "cell_type": "code",
   "execution_count": null,
   "metadata": {},
   "outputs": [],
   "source": []
  }
 ],
 "metadata": {
  "kernelspec": {
   "display_name": "Python 3",
   "language": "python",
   "name": "python3"
  },
  "language_info": {
   "codemirror_mode": {
    "name": "ipython",
    "version": 3
   },
   "file_extension": ".py",
   "mimetype": "text/x-python",
   "name": "python",
   "nbconvert_exporter": "python",
   "pygments_lexer": "ipython3",
   "version": "3.7.10"
  }
 },
 "nbformat": 4,
 "nbformat_minor": 2
}
